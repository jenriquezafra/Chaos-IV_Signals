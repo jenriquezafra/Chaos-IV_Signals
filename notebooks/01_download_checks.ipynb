{
 "cells": [
  {
   "cell_type": "markdown",
   "id": "cd61524d",
   "metadata": {},
   "source": [
    "## Carga de librerias"
   ]
  },
  {
   "cell_type": "code",
   "execution_count": 1,
   "id": "0b744556",
   "metadata": {},
   "outputs": [],
   "source": [
    "import numpy as np\n",
    "import pandas as pd\n",
    "import matplotlib.pyplot as plt\n",
    "import yfinance as yf"
   ]
  },
  {
   "cell_type": "markdown",
   "id": "2a06bfab",
   "metadata": {},
   "source": [
    "---\n",
    "## 1. Yahoo Finance\n",
    "### 1.1. Spot OHLCV\n",
    "#### 1.1.1. Velas diarias"
   ]
  },
  {
   "cell_type": "code",
   "execution_count": 19,
   "id": "a5948078",
   "metadata": {},
   "outputs": [
    {
     "data": {
      "text/html": [
       "<div>\n",
       "<style scoped>\n",
       "    .dataframe tbody tr th:only-of-type {\n",
       "        vertical-align: middle;\n",
       "    }\n",
       "\n",
       "    .dataframe tbody tr th {\n",
       "        vertical-align: top;\n",
       "    }\n",
       "\n",
       "    .dataframe thead tr th {\n",
       "        text-align: left;\n",
       "    }\n",
       "\n",
       "    .dataframe thead tr:last-of-type th {\n",
       "        text-align: right;\n",
       "    }\n",
       "</style>\n",
       "<table border=\"1\" class=\"dataframe\">\n",
       "  <thead>\n",
       "    <tr>\n",
       "      <th>Price</th>\n",
       "      <th>Close</th>\n",
       "      <th>High</th>\n",
       "      <th>Low</th>\n",
       "      <th>Open</th>\n",
       "      <th>Volume</th>\n",
       "    </tr>\n",
       "    <tr>\n",
       "      <th>Ticker</th>\n",
       "      <th>SPY</th>\n",
       "      <th>SPY</th>\n",
       "      <th>SPY</th>\n",
       "      <th>SPY</th>\n",
       "      <th>SPY</th>\n",
       "    </tr>\n",
       "    <tr>\n",
       "      <th>Date</th>\n",
       "      <th></th>\n",
       "      <th></th>\n",
       "      <th></th>\n",
       "      <th></th>\n",
       "      <th></th>\n",
       "    </tr>\n",
       "  </thead>\n",
       "  <tbody>\n",
       "    <tr>\n",
       "      <th>2020-01-02</th>\n",
       "      <td>299.406433</td>\n",
       "      <td>299.424883</td>\n",
       "      <td>297.249847</td>\n",
       "      <td>298.180692</td>\n",
       "      <td>59151200</td>\n",
       "    </tr>\n",
       "    <tr>\n",
       "      <th>2020-01-03</th>\n",
       "      <td>297.139313</td>\n",
       "      <td>298.272915</td>\n",
       "      <td>295.931994</td>\n",
       "      <td>295.987288</td>\n",
       "      <td>77709700</td>\n",
       "    </tr>\n",
       "    <tr>\n",
       "      <th>2020-01-06</th>\n",
       "      <td>298.272858</td>\n",
       "      <td>298.355800</td>\n",
       "      <td>295.249920</td>\n",
       "      <td>295.369735</td>\n",
       "      <td>55653900</td>\n",
       "    </tr>\n",
       "    <tr>\n",
       "      <th>2020-01-07</th>\n",
       "      <td>297.434235</td>\n",
       "      <td>298.180744</td>\n",
       "      <td>296.982622</td>\n",
       "      <td>297.701484</td>\n",
       "      <td>40496400</td>\n",
       "    </tr>\n",
       "    <tr>\n",
       "      <th>2020-01-08</th>\n",
       "      <td>299.019379</td>\n",
       "      <td>300.245120</td>\n",
       "      <td>297.378898</td>\n",
       "      <td>297.627725</td>\n",
       "      <td>68296000</td>\n",
       "    </tr>\n",
       "  </tbody>\n",
       "</table>\n",
       "</div>"
      ],
      "text/plain": [
       "Price            Close        High         Low        Open    Volume\n",
       "Ticker             SPY         SPY         SPY         SPY       SPY\n",
       "Date                                                                \n",
       "2020-01-02  299.406433  299.424883  297.249847  298.180692  59151200\n",
       "2020-01-03  297.139313  298.272915  295.931994  295.987288  77709700\n",
       "2020-01-06  298.272858  298.355800  295.249920  295.369735  55653900\n",
       "2020-01-07  297.434235  298.180744  296.982622  297.701484  40496400\n",
       "2020-01-08  299.019379  300.245120  297.378898  297.627725  68296000"
      ]
     },
     "execution_count": 19,
     "metadata": {},
     "output_type": "execute_result"
    }
   ],
   "source": [
    "tickers = ['SPY', 'QQQ', 'AAPL', 'NVDA', 'TSLA']\n",
    "\n",
    "spy_daily = yf.download(tickers[0], \n",
    "                        start='2020-01-01', \n",
    "                        end='2025-07-01',\n",
    "                        interval='1d',\n",
    "                        auto_adjust=True,\n",
    "                        progress=False\n",
    "                        )\n",
    "\n",
    "spy_daily.head()\n"
   ]
  },
  {
   "cell_type": "markdown",
   "id": "0776c541",
   "metadata": {},
   "source": [
    "#### 1.1.2. Intradía\n",
    "Yahoo pone límites segúna la resolución:\n",
    "- intervalo = 1min -> ventana máx = 7 días\n",
    "- intervalo = 60min -> ventana máx = 730 días ~2años"
   ]
  },
  {
   "cell_type": "code",
   "execution_count": 18,
   "id": "b4b8984a",
   "metadata": {},
   "outputs": [
    {
     "name": "stderr",
     "output_type": "stream",
     "text": [
      "[*********************100%***********************]  1 of 1 completed\n"
     ]
    },
    {
     "data": {
      "text/html": [
       "<div>\n",
       "<style scoped>\n",
       "    .dataframe tbody tr th:only-of-type {\n",
       "        vertical-align: middle;\n",
       "    }\n",
       "\n",
       "    .dataframe tbody tr th {\n",
       "        vertical-align: top;\n",
       "    }\n",
       "\n",
       "    .dataframe thead tr th {\n",
       "        text-align: left;\n",
       "    }\n",
       "\n",
       "    .dataframe thead tr:last-of-type th {\n",
       "        text-align: right;\n",
       "    }\n",
       "</style>\n",
       "<table border=\"1\" class=\"dataframe\">\n",
       "  <thead>\n",
       "    <tr>\n",
       "      <th>Price</th>\n",
       "      <th>Close</th>\n",
       "      <th>High</th>\n",
       "      <th>Low</th>\n",
       "      <th>Open</th>\n",
       "      <th>Volume</th>\n",
       "    </tr>\n",
       "    <tr>\n",
       "      <th>Ticker</th>\n",
       "      <th>SPY</th>\n",
       "      <th>SPY</th>\n",
       "      <th>SPY</th>\n",
       "      <th>SPY</th>\n",
       "      <th>SPY</th>\n",
       "    </tr>\n",
       "    <tr>\n",
       "      <th>Datetime</th>\n",
       "      <th></th>\n",
       "      <th></th>\n",
       "      <th></th>\n",
       "      <th></th>\n",
       "      <th></th>\n",
       "    </tr>\n",
       "  </thead>\n",
       "  <tbody>\n",
       "    <tr>\n",
       "      <th>2022-08-12 08:00:00+00:00</th>\n",
       "      <td>422.380</td>\n",
       "      <td>422.4000</td>\n",
       "      <td>421.52</td>\n",
       "      <td>422.40</td>\n",
       "      <td>0</td>\n",
       "    </tr>\n",
       "    <tr>\n",
       "      <th>2022-08-12 09:00:00+00:00</th>\n",
       "      <td>421.940</td>\n",
       "      <td>422.6500</td>\n",
       "      <td>421.94</td>\n",
       "      <td>422.38</td>\n",
       "      <td>0</td>\n",
       "    </tr>\n",
       "    <tr>\n",
       "      <th>2022-08-12 10:00:00+00:00</th>\n",
       "      <td>421.570</td>\n",
       "      <td>422.4500</td>\n",
       "      <td>421.42</td>\n",
       "      <td>421.95</td>\n",
       "      <td>0</td>\n",
       "    </tr>\n",
       "    <tr>\n",
       "      <th>2022-08-12 11:00:00+00:00</th>\n",
       "      <td>421.330</td>\n",
       "      <td>421.7500</td>\n",
       "      <td>420.96</td>\n",
       "      <td>421.63</td>\n",
       "      <td>0</td>\n",
       "    </tr>\n",
       "    <tr>\n",
       "      <th>2022-08-12 12:00:00+00:00</th>\n",
       "      <td>421.755</td>\n",
       "      <td>422.5304</td>\n",
       "      <td>420.71</td>\n",
       "      <td>421.30</td>\n",
       "      <td>0</td>\n",
       "    </tr>\n",
       "  </tbody>\n",
       "</table>\n",
       "</div>"
      ],
      "text/plain": [
       "Price                        Close      High     Low    Open Volume\n",
       "Ticker                         SPY       SPY     SPY     SPY    SPY\n",
       "Datetime                                                           \n",
       "2022-08-12 08:00:00+00:00  422.380  422.4000  421.52  422.40      0\n",
       "2022-08-12 09:00:00+00:00  421.940  422.6500  421.94  422.38      0\n",
       "2022-08-12 10:00:00+00:00  421.570  422.4500  421.42  421.95      0\n",
       "2022-08-12 11:00:00+00:00  421.330  421.7500  420.96  421.63      0\n",
       "2022-08-12 12:00:00+00:00  421.755  422.5304  420.71  421.30      0"
      ]
     },
     "execution_count": 18,
     "metadata": {},
     "output_type": "execute_result"
    }
   ],
   "source": [
    "spy_intraday = yf.download(tickers[0],\n",
    "                           period='730d',\n",
    "                           interval='60m',\n",
    "                           auto_adjust=True,\n",
    "                           prepost=True\n",
    "                           )\n",
    "spy_intraday.head()"
   ]
  },
  {
   "cell_type": "markdown",
   "id": "c24e7544",
   "metadata": {},
   "source": [
    "### 1.1. Cadena de opciones EOD\n",
    "Queremos precio, volumen y OI"
   ]
  },
  {
   "cell_type": "code",
   "execution_count": 20,
   "id": "87ec9897",
   "metadata": {},
   "outputs": [
    {
     "data": {
      "text/html": [
       "<div>\n",
       "<style scoped>\n",
       "    .dataframe tbody tr th:only-of-type {\n",
       "        vertical-align: middle;\n",
       "    }\n",
       "\n",
       "    .dataframe tbody tr th {\n",
       "        vertical-align: top;\n",
       "    }\n",
       "\n",
       "    .dataframe thead th {\n",
       "        text-align: right;\n",
       "    }\n",
       "</style>\n",
       "<table border=\"1\" class=\"dataframe\">\n",
       "  <thead>\n",
       "    <tr style=\"text-align: right;\">\n",
       "      <th></th>\n",
       "      <th>contractSymbol</th>\n",
       "      <th>strike</th>\n",
       "      <th>lastPrice</th>\n",
       "      <th>bid</th>\n",
       "      <th>ask</th>\n",
       "      <th>volume</th>\n",
       "      <th>openInterest</th>\n",
       "    </tr>\n",
       "  </thead>\n",
       "  <tbody>\n",
       "    <tr>\n",
       "      <th>0</th>\n",
       "      <td>SPY250711C00375000</td>\n",
       "      <td>375.0</td>\n",
       "      <td>249.91</td>\n",
       "      <td>248.76</td>\n",
       "      <td>250.58</td>\n",
       "      <td>1.0</td>\n",
       "      <td>40</td>\n",
       "    </tr>\n",
       "    <tr>\n",
       "      <th>1</th>\n",
       "      <td>SPY250711C00380000</td>\n",
       "      <td>380.0</td>\n",
       "      <td>222.31</td>\n",
       "      <td>243.77</td>\n",
       "      <td>245.53</td>\n",
       "      <td>15.0</td>\n",
       "      <td>0</td>\n",
       "    </tr>\n",
       "    <tr>\n",
       "      <th>2</th>\n",
       "      <td>SPY250711C00400000</td>\n",
       "      <td>400.0</td>\n",
       "      <td>225.78</td>\n",
       "      <td>223.76</td>\n",
       "      <td>225.54</td>\n",
       "      <td>1.0</td>\n",
       "      <td>3</td>\n",
       "    </tr>\n",
       "    <tr>\n",
       "      <th>3</th>\n",
       "      <td>SPY250711C00410000</td>\n",
       "      <td>410.0</td>\n",
       "      <td>215.84</td>\n",
       "      <td>213.78</td>\n",
       "      <td>215.60</td>\n",
       "      <td>2.0</td>\n",
       "      <td>1</td>\n",
       "    </tr>\n",
       "    <tr>\n",
       "      <th>4</th>\n",
       "      <td>SPY250711C00415000</td>\n",
       "      <td>415.0</td>\n",
       "      <td>186.70</td>\n",
       "      <td>0.00</td>\n",
       "      <td>0.00</td>\n",
       "      <td>NaN</td>\n",
       "      <td>0</td>\n",
       "    </tr>\n",
       "  </tbody>\n",
       "</table>\n",
       "</div>"
      ],
      "text/plain": [
       "       contractSymbol  strike  lastPrice     bid     ask  volume  openInterest\n",
       "0  SPY250711C00375000   375.0     249.91  248.76  250.58     1.0            40\n",
       "1  SPY250711C00380000   380.0     222.31  243.77  245.53    15.0             0\n",
       "2  SPY250711C00400000   400.0     225.78  223.76  225.54     1.0             3\n",
       "3  SPY250711C00410000   410.0     215.84  213.78  215.60     2.0             1\n",
       "4  SPY250711C00415000   415.0     186.70    0.00    0.00     NaN             0"
      ]
     },
     "execution_count": 20,
     "metadata": {},
     "output_type": "execute_result"
    }
   ],
   "source": [
    "spy, qqq, aapl, nvda, tsla = [yf.Ticker(ticker) for ticker in tickers]\n",
    "\n",
    "expirations = spy.options\n",
    "chain = spy.option_chain(expirations[0])\n",
    "\n",
    "calls = chain.calls[['contractSymbol','strike', 'lastPrice',\n",
    "                     'bid', 'ask', 'volume', 'openInterest']]\n",
    "\n",
    "puts = chain.puts[['contractSymbol','strike', 'lastPrice',\n",
    "                   'bid', 'ask', 'volume', 'openInterest']] \n",
    "\n",
    "calls.head()"
   ]
  },
  {
   "cell_type": "markdown",
   "id": "da72ace1",
   "metadata": {},
   "source": [
    "### Ejecución de CLI\n",
    "Se puede ejecutar yahoo.py por la terminar escribiendo:\n",
    "- ` python src/data_ingest/yahoo.py --ticker SPY --spot`\n",
    "- ` python src/data_ingest/yahoo.py --ticker SPY --options`\n",
    "\n",
    "Pero también se puede desde el notebook"
   ]
  },
  {
   "cell_type": "markdown",
   "id": "4085ad42",
   "metadata": {},
   "source": [
    "## 2. IBKR\n",
    "Usaré *ib_insysn* e *IB Gateway* para automatizarlo y que descargue datos.\n"
   ]
  },
  {
   "cell_type": "code",
   "execution_count": null,
   "id": "633c8748",
   "metadata": {},
   "outputs": [],
   "source": []
  },
  {
   "cell_type": "markdown",
   "id": "34a7d170",
   "metadata": {},
   "source": [
    "## 3. Polygon.io\n",
    "Principalmente para datos de opciones. Usaremos la REST API ya que nos vale con datos estáticos. Si quisieramos datos live, también tiene un WebSocket API."
   ]
  },
  {
   "cell_type": "code",
   "execution_count": 13,
   "id": "c8431db1",
   "metadata": {},
   "outputs": [
    {
     "name": "stdout",
     "output_type": "stream",
     "text": [
      "MarketStatus(after_hours=False, currencies=MarketCurrencies(crypto='open', fx='closed'), early_hours=False, exchanges=MarketExchanges(nasdaq='closed', nyse='closed', otc='closed'), indicesGroups=MarketIndices(s_and_p='closed', societe_generale='closed', cgi='closed', msci='closed', ftse_russell='closed', mstar='closed', mstarc='closed', cccy='open', nasdaq='closed', dow_jones='closed'), market='closed', server_time='2025-07-26T13:24:35-04:00')\n"
     ]
    }
   ],
   "source": [
    "from polygon import RESTClient\n",
    "from dotenv import load_dotenv\n",
    "import os\n",
    "load_dotenv()\n",
    "API_KEY = os.getenv(\"POLYGON_API_KEY\")\n",
    "\n",
    "client = RESTClient(API_KEY)\n",
    "status = client.get_market_status()\n",
    "print(status)"
   ]
  },
  {
   "cell_type": "code",
   "execution_count": 8,
   "id": "aecae0d1",
   "metadata": {},
   "outputs": [
    {
     "name": "stdout",
     "output_type": "stream",
     "text": [
      "[]\n",
      "0\n"
     ]
    }
   ],
   "source": [
    "options_chain = []\n",
    "for o in client.list_snapshot_options_chain(\n",
    "    \"HCP\",\n",
    "    params={\n",
    "        \"expiration_date.get\": \"2024-03-16\",\n",
    "        \"strike_price.gte\": 29,\n",
    "        \"strike_price.lte\": 30,\n",
    "    }\n",
    "):\n",
    "    options_chain.append(o)\n",
    "\n",
    "print(options_chain)\n",
    "print(len(options_chain))"
   ]
  },
  {
   "cell_type": "code",
   "execution_count": null,
   "id": "c766e431",
   "metadata": {},
   "outputs": [],
   "source": []
  }
 ],
 "metadata": {
  "kernelspec": {
   "display_name": ".venv",
   "language": "python",
   "name": "python3"
  },
  "language_info": {
   "codemirror_mode": {
    "name": "ipython",
    "version": 3
   },
   "file_extension": ".py",
   "mimetype": "text/x-python",
   "name": "python",
   "nbconvert_exporter": "python",
   "pygments_lexer": "ipython3",
   "version": "3.12.1"
  }
 },
 "nbformat": 4,
 "nbformat_minor": 5
}
